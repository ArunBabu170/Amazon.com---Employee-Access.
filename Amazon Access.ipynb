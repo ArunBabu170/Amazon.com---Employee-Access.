{
 "cells": [
  {
   "cell_type": "code",
   "execution_count": 1,
   "metadata": {},
   "outputs": [],
   "source": [
    "import pandas as pd\n",
    "import numpy as np"
   ]
  },
  {
   "cell_type": "code",
   "execution_count": 2,
   "metadata": {},
   "outputs": [],
   "source": [
    "train_dataset= pd.read_csv(\"train.csv\")"
   ]
  },
  {
   "cell_type": "code",
   "execution_count": 3,
   "metadata": {},
   "outputs": [
    {
     "name": "stdout",
     "output_type": "stream",
     "text": [
      "<class 'pandas.core.frame.DataFrame'>\n",
      "RangeIndex: 32769 entries, 0 to 32768\n",
      "Data columns (total 10 columns):\n",
      " #   Column            Non-Null Count  Dtype\n",
      "---  ------            --------------  -----\n",
      " 0   ACTION            32769 non-null  int64\n",
      " 1   RESOURCE          32769 non-null  int64\n",
      " 2   MGR_ID            32769 non-null  int64\n",
      " 3   ROLE_ROLLUP_1     32769 non-null  int64\n",
      " 4   ROLE_ROLLUP_2     32769 non-null  int64\n",
      " 5   ROLE_DEPTNAME     32769 non-null  int64\n",
      " 6   ROLE_TITLE        32769 non-null  int64\n",
      " 7   ROLE_FAMILY_DESC  32769 non-null  int64\n",
      " 8   ROLE_FAMILY       32769 non-null  int64\n",
      " 9   ROLE_CODE         32769 non-null  int64\n",
      "dtypes: int64(10)\n",
      "memory usage: 2.5 MB\n"
     ]
    }
   ],
   "source": [
    "train_dataset.info()"
   ]
  },
  {
   "cell_type": "code",
   "execution_count": 4,
   "metadata": {},
   "outputs": [
    {
     "data": {
      "text/html": [
       "<div>\n",
       "<style scoped>\n",
       "    .dataframe tbody tr th:only-of-type {\n",
       "        vertical-align: middle;\n",
       "    }\n",
       "\n",
       "    .dataframe tbody tr th {\n",
       "        vertical-align: top;\n",
       "    }\n",
       "\n",
       "    .dataframe thead th {\n",
       "        text-align: right;\n",
       "    }\n",
       "</style>\n",
       "<table border=\"1\" class=\"dataframe\">\n",
       "  <thead>\n",
       "    <tr style=\"text-align: right;\">\n",
       "      <th></th>\n",
       "      <th>ACTION</th>\n",
       "      <th>RESOURCE</th>\n",
       "      <th>MGR_ID</th>\n",
       "      <th>ROLE_ROLLUP_1</th>\n",
       "      <th>ROLE_ROLLUP_2</th>\n",
       "      <th>ROLE_DEPTNAME</th>\n",
       "      <th>ROLE_TITLE</th>\n",
       "      <th>ROLE_FAMILY_DESC</th>\n",
       "      <th>ROLE_FAMILY</th>\n",
       "      <th>ROLE_CODE</th>\n",
       "    </tr>\n",
       "  </thead>\n",
       "  <tbody>\n",
       "    <tr>\n",
       "      <th>ACTION</th>\n",
       "      <td>1.000000</td>\n",
       "      <td>0.000185</td>\n",
       "      <td>-0.005167</td>\n",
       "      <td>-0.013702</td>\n",
       "      <td>0.005179</td>\n",
       "      <td>0.001025</td>\n",
       "      <td>-0.010169</td>\n",
       "      <td>0.003565</td>\n",
       "      <td>0.000502</td>\n",
       "      <td>0.017147</td>\n",
       "    </tr>\n",
       "    <tr>\n",
       "      <th>RESOURCE</th>\n",
       "      <td>0.000185</td>\n",
       "      <td>1.000000</td>\n",
       "      <td>0.011088</td>\n",
       "      <td>-0.005016</td>\n",
       "      <td>0.013438</td>\n",
       "      <td>0.030004</td>\n",
       "      <td>0.002936</td>\n",
       "      <td>0.021029</td>\n",
       "      <td>0.031060</td>\n",
       "      <td>0.007733</td>\n",
       "    </tr>\n",
       "    <tr>\n",
       "      <th>MGR_ID</th>\n",
       "      <td>-0.005167</td>\n",
       "      <td>0.011088</td>\n",
       "      <td>1.000000</td>\n",
       "      <td>-0.007132</td>\n",
       "      <td>-0.000364</td>\n",
       "      <td>-0.009551</td>\n",
       "      <td>0.017864</td>\n",
       "      <td>-0.018488</td>\n",
       "      <td>-0.118254</td>\n",
       "      <td>-0.004067</td>\n",
       "    </tr>\n",
       "    <tr>\n",
       "      <th>ROLE_ROLLUP_1</th>\n",
       "      <td>-0.013702</td>\n",
       "      <td>-0.005016</td>\n",
       "      <td>-0.007132</td>\n",
       "      <td>1.000000</td>\n",
       "      <td>0.033358</td>\n",
       "      <td>-0.009548</td>\n",
       "      <td>0.010207</td>\n",
       "      <td>-0.007546</td>\n",
       "      <td>0.029468</td>\n",
       "      <td>-0.024927</td>\n",
       "    </tr>\n",
       "    <tr>\n",
       "      <th>ROLE_ROLLUP_2</th>\n",
       "      <td>0.005179</td>\n",
       "      <td>0.013438</td>\n",
       "      <td>-0.000364</td>\n",
       "      <td>0.033358</td>\n",
       "      <td>1.000000</td>\n",
       "      <td>-0.006056</td>\n",
       "      <td>0.008305</td>\n",
       "      <td>0.018873</td>\n",
       "      <td>0.069558</td>\n",
       "      <td>0.015117</td>\n",
       "    </tr>\n",
       "    <tr>\n",
       "      <th>ROLE_DEPTNAME</th>\n",
       "      <td>0.001025</td>\n",
       "      <td>0.030004</td>\n",
       "      <td>-0.009551</td>\n",
       "      <td>-0.009548</td>\n",
       "      <td>-0.006056</td>\n",
       "      <td>1.000000</td>\n",
       "      <td>-0.006932</td>\n",
       "      <td>-0.002877</td>\n",
       "      <td>0.031669</td>\n",
       "      <td>0.010319</td>\n",
       "    </tr>\n",
       "    <tr>\n",
       "      <th>ROLE_TITLE</th>\n",
       "      <td>-0.010169</td>\n",
       "      <td>0.002936</td>\n",
       "      <td>0.017864</td>\n",
       "      <td>0.010207</td>\n",
       "      <td>0.008305</td>\n",
       "      <td>-0.006932</td>\n",
       "      <td>1.000000</td>\n",
       "      <td>0.170692</td>\n",
       "      <td>-0.012450</td>\n",
       "      <td>0.155920</td>\n",
       "    </tr>\n",
       "    <tr>\n",
       "      <th>ROLE_FAMILY_DESC</th>\n",
       "      <td>0.003565</td>\n",
       "      <td>0.021029</td>\n",
       "      <td>-0.018488</td>\n",
       "      <td>-0.007546</td>\n",
       "      <td>0.018873</td>\n",
       "      <td>-0.002877</td>\n",
       "      <td>0.170692</td>\n",
       "      <td>1.000000</td>\n",
       "      <td>-0.180596</td>\n",
       "      <td>0.092980</td>\n",
       "    </tr>\n",
       "    <tr>\n",
       "      <th>ROLE_FAMILY</th>\n",
       "      <td>0.000502</td>\n",
       "      <td>0.031060</td>\n",
       "      <td>-0.118254</td>\n",
       "      <td>0.029468</td>\n",
       "      <td>0.069558</td>\n",
       "      <td>0.031669</td>\n",
       "      <td>-0.012450</td>\n",
       "      <td>-0.180596</td>\n",
       "      <td>1.000000</td>\n",
       "      <td>-0.148625</td>\n",
       "    </tr>\n",
       "    <tr>\n",
       "      <th>ROLE_CODE</th>\n",
       "      <td>0.017147</td>\n",
       "      <td>0.007733</td>\n",
       "      <td>-0.004067</td>\n",
       "      <td>-0.024927</td>\n",
       "      <td>0.015117</td>\n",
       "      <td>0.010319</td>\n",
       "      <td>0.155920</td>\n",
       "      <td>0.092980</td>\n",
       "      <td>-0.148625</td>\n",
       "      <td>1.000000</td>\n",
       "    </tr>\n",
       "  </tbody>\n",
       "</table>\n",
       "</div>"
      ],
      "text/plain": [
       "                    ACTION  RESOURCE    MGR_ID  ROLE_ROLLUP_1  ROLE_ROLLUP_2  \\\n",
       "ACTION            1.000000  0.000185 -0.005167      -0.013702       0.005179   \n",
       "RESOURCE          0.000185  1.000000  0.011088      -0.005016       0.013438   \n",
       "MGR_ID           -0.005167  0.011088  1.000000      -0.007132      -0.000364   \n",
       "ROLE_ROLLUP_1    -0.013702 -0.005016 -0.007132       1.000000       0.033358   \n",
       "ROLE_ROLLUP_2     0.005179  0.013438 -0.000364       0.033358       1.000000   \n",
       "ROLE_DEPTNAME     0.001025  0.030004 -0.009551      -0.009548      -0.006056   \n",
       "ROLE_TITLE       -0.010169  0.002936  0.017864       0.010207       0.008305   \n",
       "ROLE_FAMILY_DESC  0.003565  0.021029 -0.018488      -0.007546       0.018873   \n",
       "ROLE_FAMILY       0.000502  0.031060 -0.118254       0.029468       0.069558   \n",
       "ROLE_CODE         0.017147  0.007733 -0.004067      -0.024927       0.015117   \n",
       "\n",
       "                  ROLE_DEPTNAME  ROLE_TITLE  ROLE_FAMILY_DESC  ROLE_FAMILY  \\\n",
       "ACTION                 0.001025   -0.010169          0.003565     0.000502   \n",
       "RESOURCE               0.030004    0.002936          0.021029     0.031060   \n",
       "MGR_ID                -0.009551    0.017864         -0.018488    -0.118254   \n",
       "ROLE_ROLLUP_1         -0.009548    0.010207         -0.007546     0.029468   \n",
       "ROLE_ROLLUP_2         -0.006056    0.008305          0.018873     0.069558   \n",
       "ROLE_DEPTNAME          1.000000   -0.006932         -0.002877     0.031669   \n",
       "ROLE_TITLE            -0.006932    1.000000          0.170692    -0.012450   \n",
       "ROLE_FAMILY_DESC      -0.002877    0.170692          1.000000    -0.180596   \n",
       "ROLE_FAMILY            0.031669   -0.012450         -0.180596     1.000000   \n",
       "ROLE_CODE              0.010319    0.155920          0.092980    -0.148625   \n",
       "\n",
       "                  ROLE_CODE  \n",
       "ACTION             0.017147  \n",
       "RESOURCE           0.007733  \n",
       "MGR_ID            -0.004067  \n",
       "ROLE_ROLLUP_1     -0.024927  \n",
       "ROLE_ROLLUP_2      0.015117  \n",
       "ROLE_DEPTNAME      0.010319  \n",
       "ROLE_TITLE         0.155920  \n",
       "ROLE_FAMILY_DESC   0.092980  \n",
       "ROLE_FAMILY       -0.148625  \n",
       "ROLE_CODE          1.000000  "
      ]
     },
     "execution_count": 4,
     "metadata": {},
     "output_type": "execute_result"
    }
   ],
   "source": [
    "train_dataset.corr()"
   ]
  },
  {
   "cell_type": "code",
   "execution_count": 5,
   "metadata": {},
   "outputs": [
    {
     "data": {
      "text/html": [
       "<div>\n",
       "<style scoped>\n",
       "    .dataframe tbody tr th:only-of-type {\n",
       "        vertical-align: middle;\n",
       "    }\n",
       "\n",
       "    .dataframe tbody tr th {\n",
       "        vertical-align: top;\n",
       "    }\n",
       "\n",
       "    .dataframe thead th {\n",
       "        text-align: right;\n",
       "    }\n",
       "</style>\n",
       "<table border=\"1\" class=\"dataframe\">\n",
       "  <thead>\n",
       "    <tr style=\"text-align: right;\">\n",
       "      <th></th>\n",
       "      <th>ACTION</th>\n",
       "      <th>RESOURCE</th>\n",
       "      <th>MGR_ID</th>\n",
       "      <th>ROLE_ROLLUP_1</th>\n",
       "      <th>ROLE_ROLLUP_2</th>\n",
       "      <th>ROLE_DEPTNAME</th>\n",
       "      <th>ROLE_TITLE</th>\n",
       "      <th>ROLE_FAMILY_DESC</th>\n",
       "      <th>ROLE_FAMILY</th>\n",
       "      <th>ROLE_CODE</th>\n",
       "    </tr>\n",
       "  </thead>\n",
       "  <tbody>\n",
       "    <tr>\n",
       "      <th>0</th>\n",
       "      <td>1</td>\n",
       "      <td>39353</td>\n",
       "      <td>85475</td>\n",
       "      <td>117961</td>\n",
       "      <td>118300</td>\n",
       "      <td>123472</td>\n",
       "      <td>117905</td>\n",
       "      <td>117906</td>\n",
       "      <td>290919</td>\n",
       "      <td>117908</td>\n",
       "    </tr>\n",
       "    <tr>\n",
       "      <th>1</th>\n",
       "      <td>1</td>\n",
       "      <td>17183</td>\n",
       "      <td>1540</td>\n",
       "      <td>117961</td>\n",
       "      <td>118343</td>\n",
       "      <td>123125</td>\n",
       "      <td>118536</td>\n",
       "      <td>118536</td>\n",
       "      <td>308574</td>\n",
       "      <td>118539</td>\n",
       "    </tr>\n",
       "    <tr>\n",
       "      <th>2</th>\n",
       "      <td>1</td>\n",
       "      <td>36724</td>\n",
       "      <td>14457</td>\n",
       "      <td>118219</td>\n",
       "      <td>118220</td>\n",
       "      <td>117884</td>\n",
       "      <td>117879</td>\n",
       "      <td>267952</td>\n",
       "      <td>19721</td>\n",
       "      <td>117880</td>\n",
       "    </tr>\n",
       "    <tr>\n",
       "      <th>3</th>\n",
       "      <td>1</td>\n",
       "      <td>36135</td>\n",
       "      <td>5396</td>\n",
       "      <td>117961</td>\n",
       "      <td>118343</td>\n",
       "      <td>119993</td>\n",
       "      <td>118321</td>\n",
       "      <td>240983</td>\n",
       "      <td>290919</td>\n",
       "      <td>118322</td>\n",
       "    </tr>\n",
       "    <tr>\n",
       "      <th>4</th>\n",
       "      <td>1</td>\n",
       "      <td>42680</td>\n",
       "      <td>5905</td>\n",
       "      <td>117929</td>\n",
       "      <td>117930</td>\n",
       "      <td>119569</td>\n",
       "      <td>119323</td>\n",
       "      <td>123932</td>\n",
       "      <td>19793</td>\n",
       "      <td>119325</td>\n",
       "    </tr>\n",
       "  </tbody>\n",
       "</table>\n",
       "</div>"
      ],
      "text/plain": [
       "   ACTION  RESOURCE  MGR_ID  ROLE_ROLLUP_1  ROLE_ROLLUP_2  ROLE_DEPTNAME  \\\n",
       "0       1     39353   85475         117961         118300         123472   \n",
       "1       1     17183    1540         117961         118343         123125   \n",
       "2       1     36724   14457         118219         118220         117884   \n",
       "3       1     36135    5396         117961         118343         119993   \n",
       "4       1     42680    5905         117929         117930         119569   \n",
       "\n",
       "   ROLE_TITLE  ROLE_FAMILY_DESC  ROLE_FAMILY  ROLE_CODE  \n",
       "0      117905            117906       290919     117908  \n",
       "1      118536            118536       308574     118539  \n",
       "2      117879            267952        19721     117880  \n",
       "3      118321            240983       290919     118322  \n",
       "4      119323            123932        19793     119325  "
      ]
     },
     "execution_count": 5,
     "metadata": {},
     "output_type": "execute_result"
    }
   ],
   "source": [
    "train_dataset.head()"
   ]
  },
  {
   "cell_type": "code",
   "execution_count": 6,
   "metadata": {},
   "outputs": [],
   "source": [
    "import matplotlib.pyplot as plt\n",
    "import seaborn as sns\n",
    "%matplotlib inline"
   ]
  },
  {
   "cell_type": "code",
   "execution_count": 7,
   "metadata": {},
   "outputs": [
    {
     "data": {
      "text/plain": [
       "<matplotlib.axes._subplots.AxesSubplot at 0x2173cc4e088>"
      ]
     },
     "execution_count": 7,
     "metadata": {},
     "output_type": "execute_result"
    },
    {
     "data": {
      "image/png": "[encoded data removed]",
      "text/plain": [
       "<Figure size 432x288 with 1 Axes>"
      ]
     },
     "metadata": {
      "needs_background": "light"
     },
     "output_type": "display_data"
    }
   ],
   "source": [
    "sns.countplot(train_dataset[\"ACTION\"])"
   ]
  },
  {
   "cell_type": "code",
   "execution_count": 8,
   "metadata": {},
   "outputs": [
    {
     "data": {
      "text/plain": [
       "ACTION              0\n",
       "RESOURCE            0\n",
       "MGR_ID              0\n",
       "ROLE_ROLLUP_1       0\n",
       "ROLE_ROLLUP_2       0\n",
       "ROLE_DEPTNAME       0\n",
       "ROLE_TITLE          0\n",
       "ROLE_FAMILY_DESC    0\n",
       "ROLE_FAMILY         0\n",
       "ROLE_CODE           0\n",
       "dtype: int64"
      ]
     },
     "execution_count": 8,
     "metadata": {},
     "output_type": "execute_result"
    }
   ],
   "source": [
    "train_dataset.isnull().sum()"
   ]
  },
  {
   "cell_type": "code",
   "execution_count": 9,
   "metadata": {},
   "outputs": [],
   "source": [
    "from sklearn.model_selection import train_test_split"
   ]
  },
  {
   "cell_type": "code",
   "execution_count": 10,
   "metadata": {},
   "outputs": [],
   "source": [
    "X =train_dataset.drop('ACTION',axis= 1)"
   ]
  },
  {
   "cell_type": "code",
   "execution_count": 11,
   "metadata": {},
   "outputs": [],
   "source": [
    "Y = train_dataset['ACTION']"
   ]
  },
  {
   "cell_type": "code",
   "execution_count": 12,
   "metadata": {},
   "outputs": [
    {
     "data": {
      "text/plain": [
       "0        1\n",
       "1        1\n",
       "2        1\n",
       "3        1\n",
       "4        1\n",
       "        ..\n",
       "32764    1\n",
       "32765    1\n",
       "32766    1\n",
       "32767    1\n",
       "32768    1\n",
       "Name: ACTION, Length: 32769, dtype: int64"
      ]
     },
     "execution_count": 12,
     "metadata": {},
     "output_type": "execute_result"
    }
   ],
   "source": [
    "Y"
   ]
  },
  {
   "cell_type": "code",
   "execution_count": 13,
   "metadata": {},
   "outputs": [
    {
     "data": {
      "text/html": [
       "<div>\n",
       "<style scoped>\n",
       "    .dataframe tbody tr th:only-of-type {\n",
       "        vertical-align: middle;\n",
       "    }\n",
       "\n",
       "    .dataframe tbody tr th {\n",
       "        vertical-align: top;\n",
       "    }\n",
       "\n",
       "    .dataframe thead th {\n",
       "        text-align: right;\n",
       "    }\n",
       "</style>\n",
       "<table border=\"1\" class=\"dataframe\">\n",
       "  <thead>\n",
       "    <tr style=\"text-align: right;\">\n",
       "      <th></th>\n",
       "      <th>RESOURCE</th>\n",
       "      <th>MGR_ID</th>\n",
       "      <th>ROLE_ROLLUP_1</th>\n",
       "      <th>ROLE_ROLLUP_2</th>\n",
       "      <th>ROLE_DEPTNAME</th>\n",
       "      <th>ROLE_TITLE</th>\n",
       "      <th>ROLE_FAMILY_DESC</th>\n",
       "      <th>ROLE_FAMILY</th>\n",
       "      <th>ROLE_CODE</th>\n",
       "    </tr>\n",
       "  </thead>\n",
       "  <tbody>\n",
       "    <tr>\n",
       "      <th>0</th>\n",
       "      <td>39353</td>\n",
       "      <td>85475</td>\n",
       "      <td>117961</td>\n",
       "      <td>118300</td>\n",
       "      <td>123472</td>\n",
       "      <td>117905</td>\n",
       "      <td>117906</td>\n",
       "      <td>290919</td>\n",
       "      <td>117908</td>\n",
       "    </tr>\n",
       "    <tr>\n",
       "      <th>1</th>\n",
       "      <td>17183</td>\n",
       "      <td>1540</td>\n",
       "      <td>117961</td>\n",
       "      <td>118343</td>\n",
       "      <td>123125</td>\n",
       "      <td>118536</td>\n",
       "      <td>118536</td>\n",
       "      <td>308574</td>\n",
       "      <td>118539</td>\n",
       "    </tr>\n",
       "    <tr>\n",
       "      <th>2</th>\n",
       "      <td>36724</td>\n",
       "      <td>14457</td>\n",
       "      <td>118219</td>\n",
       "      <td>118220</td>\n",
       "      <td>117884</td>\n",
       "      <td>117879</td>\n",
       "      <td>267952</td>\n",
       "      <td>19721</td>\n",
       "      <td>117880</td>\n",
       "    </tr>\n",
       "    <tr>\n",
       "      <th>3</th>\n",
       "      <td>36135</td>\n",
       "      <td>5396</td>\n",
       "      <td>117961</td>\n",
       "      <td>118343</td>\n",
       "      <td>119993</td>\n",
       "      <td>118321</td>\n",
       "      <td>240983</td>\n",
       "      <td>290919</td>\n",
       "      <td>118322</td>\n",
       "    </tr>\n",
       "    <tr>\n",
       "      <th>4</th>\n",
       "      <td>42680</td>\n",
       "      <td>5905</td>\n",
       "      <td>117929</td>\n",
       "      <td>117930</td>\n",
       "      <td>119569</td>\n",
       "      <td>119323</td>\n",
       "      <td>123932</td>\n",
       "      <td>19793</td>\n",
       "      <td>119325</td>\n",
       "    </tr>\n",
       "    <tr>\n",
       "      <th>...</th>\n",
       "      <td>...</td>\n",
       "      <td>...</td>\n",
       "      <td>...</td>\n",
       "      <td>...</td>\n",
       "      <td>...</td>\n",
       "      <td>...</td>\n",
       "      <td>...</td>\n",
       "      <td>...</td>\n",
       "      <td>...</td>\n",
       "    </tr>\n",
       "    <tr>\n",
       "      <th>32764</th>\n",
       "      <td>23497</td>\n",
       "      <td>16971</td>\n",
       "      <td>117961</td>\n",
       "      <td>118300</td>\n",
       "      <td>119993</td>\n",
       "      <td>118321</td>\n",
       "      <td>240983</td>\n",
       "      <td>290919</td>\n",
       "      <td>118322</td>\n",
       "    </tr>\n",
       "    <tr>\n",
       "      <th>32765</th>\n",
       "      <td>25139</td>\n",
       "      <td>311198</td>\n",
       "      <td>91261</td>\n",
       "      <td>118026</td>\n",
       "      <td>122392</td>\n",
       "      <td>121143</td>\n",
       "      <td>173805</td>\n",
       "      <td>249618</td>\n",
       "      <td>121145</td>\n",
       "    </tr>\n",
       "    <tr>\n",
       "      <th>32766</th>\n",
       "      <td>34924</td>\n",
       "      <td>28805</td>\n",
       "      <td>117961</td>\n",
       "      <td>118327</td>\n",
       "      <td>120299</td>\n",
       "      <td>124922</td>\n",
       "      <td>152038</td>\n",
       "      <td>118612</td>\n",
       "      <td>124924</td>\n",
       "    </tr>\n",
       "    <tr>\n",
       "      <th>32767</th>\n",
       "      <td>80574</td>\n",
       "      <td>55643</td>\n",
       "      <td>118256</td>\n",
       "      <td>118257</td>\n",
       "      <td>117945</td>\n",
       "      <td>280788</td>\n",
       "      <td>280788</td>\n",
       "      <td>292795</td>\n",
       "      <td>119082</td>\n",
       "    </tr>\n",
       "    <tr>\n",
       "      <th>32768</th>\n",
       "      <td>14354</td>\n",
       "      <td>59575</td>\n",
       "      <td>117916</td>\n",
       "      <td>118150</td>\n",
       "      <td>117920</td>\n",
       "      <td>118568</td>\n",
       "      <td>122142</td>\n",
       "      <td>19721</td>\n",
       "      <td>118570</td>\n",
       "    </tr>\n",
       "  </tbody>\n",
       "</table>\n",
       "<p>32769 rows × 9 columns</p>\n",
       "</div>"
      ],
      "text/plain": [
       "       RESOURCE  MGR_ID  ROLE_ROLLUP_1  ROLE_ROLLUP_2  ROLE_DEPTNAME  \\\n",
       "0         39353   85475         117961         118300         123472   \n",
       "1         17183    1540         117961         118343         123125   \n",
       "2         36724   14457         118219         118220         117884   \n",
       "3         36135    5396         117961         118343         119993   \n",
       "4         42680    5905         117929         117930         119569   \n",
       "...         ...     ...            ...            ...            ...   \n",
       "32764     23497   16971         117961         118300         119993   \n",
       "32765     25139  311198          91261         118026         122392   \n",
       "32766     34924   28805         117961         118327         120299   \n",
       "32767     80574   55643         118256         118257         117945   \n",
       "32768     14354   59575         117916         118150         117920   \n",
       "\n",
       "       ROLE_TITLE  ROLE_FAMILY_DESC  ROLE_FAMILY  ROLE_CODE  \n",
       "0          117905            117906       290919     117908  \n",
       "1          118536            118536       308574     118539  \n",
       "2          117879            267952        19721     117880  \n",
       "3          118321            240983       290919     118322  \n",
       "4          119323            123932        19793     119325  \n",
       "...           ...               ...          ...        ...  \n",
       "32764      118321            240983       290919     118322  \n",
       "32765      121143            173805       249618     121145  \n",
       "32766      124922            152038       118612     124924  \n",
       "32767      280788            280788       292795     119082  \n",
       "32768      118568            122142        19721     118570  \n",
       "\n",
       "[32769 rows x 9 columns]"
      ]
     },
     "execution_count": 13,
     "metadata": {},
     "output_type": "execute_result"
    }
   ],
   "source": [
    "X"
   ]
  },
  {
   "cell_type": "code",
   "execution_count": 14,
   "metadata": {},
   "outputs": [],
   "source": [
    "x_train ,x_test,y_train,y_test = train_test_split(X,Y,test_size = 0.3)"
   ]
  },
  {
   "cell_type": "code",
   "execution_count": 15,
   "metadata": {},
   "outputs": [],
   "source": [
    "from sklearn.linear_model import LogisticRegression"
   ]
  },
  {
   "cell_type": "code",
   "execution_count": 16,
   "metadata": {},
   "outputs": [],
   "source": [
    "from sklearn.metrics import confusion_matrix,accuracy_score"
   ]
  },
  {
   "cell_type": "code",
   "execution_count": 17,
   "metadata": {},
   "outputs": [],
   "source": [
    "logistic_regression_predict = LogisticRegression()"
   ]
  },
  {
   "cell_type": "code",
   "execution_count": 18,
   "metadata": {},
   "outputs": [
    {
     "data": {
      "text/plain": [
       "LogisticRegression(C=1.0, class_weight=None, dual=False, fit_intercept=True,\n",
       "                   intercept_scaling=1, l1_ratio=None, max_iter=100,\n",
       "                   multi_class='auto', n_jobs=None, penalty='l2',\n",
       "                   random_state=None, solver='lbfgs', tol=0.0001, verbose=0,\n",
       "                   warm_start=False)"
      ]
     },
     "execution_count": 18,
     "metadata": {},
     "output_type": "execute_result"
    }
   ],
   "source": [
    "logistic_regression_predict.fit(x_train,y_train)"
   ]
  },
  {
   "cell_type": "code",
   "execution_count": 19,
   "metadata": {},
   "outputs": [],
   "source": [
    "y_pred = logistic_regression_predict.predict(x_test)"
   ]
  },
  {
   "cell_type": "code",
   "execution_count": 20,
   "metadata": {},
   "outputs": [
    {
     "name": "stdout",
     "output_type": "stream",
     "text": [
      "0.9373410639812837\n",
      "[[   0  616]\n",
      " [   0 9215]]\n"
     ]
    }
   ],
   "source": [
    "print(accuracy_score(y_test,y_pred))\n",
    "print(confusion_matrix(y_test,y_pred))"
   ]
  },
  {
   "cell_type": "code",
   "execution_count": 21,
   "metadata": {},
   "outputs": [],
   "source": [
    "from sklearn.neighbors import KNeighborsClassifier\n",
    "KNC = KNeighborsClassifier(n_neighbors= 5, metric = 'minkowski',p =2 )"
   ]
  },
  {
   "cell_type": "code",
   "execution_count": 22,
   "metadata": {},
   "outputs": [
    {
     "data": {
      "text/plain": [
       "KNeighborsClassifier(algorithm='auto', leaf_size=30, metric='minkowski',\n",
       "                     metric_params=None, n_jobs=None, n_neighbors=5, p=2,\n",
       "                     weights='uniform')"
      ]
     },
     "execution_count": 22,
     "metadata": {},
     "output_type": "execute_result"
    }
   ],
   "source": [
    "KNC.fit(x_train,y_train)"
   ]
  },
  {
   "cell_type": "code",
   "execution_count": 23,
   "metadata": {},
   "outputs": [],
   "source": [
    "y_pred_knc = KNC.predict(x_test)"
   ]
  },
  {
   "cell_type": "code",
   "execution_count": 24,
   "metadata": {},
   "outputs": [
    {
     "name": "stdout",
     "output_type": "stream",
     "text": [
      "0.932255111382362\n",
      "[[  48  568]\n",
      " [  98 9117]]\n"
     ]
    }
   ],
   "source": [
    "print(accuracy_score(y_test,y_pred_knc))\n",
    "print(confusion_matrix(y_test,y_pred_knc))"
   ]
  },
  {
   "cell_type": "code",
   "execution_count": 25,
   "metadata": {},
   "outputs": [
    {
     "data": {
      "text/plain": [
       "RandomForestClassifier(bootstrap=True, ccp_alpha=0.0, class_weight=None,\n",
       "                       criterion='entropy', max_depth=None, max_features='auto',\n",
       "                       max_leaf_nodes=None, max_samples=None,\n",
       "                       min_impurity_decrease=0.0, min_impurity_split=None,\n",
       "                       min_samples_leaf=1, min_samples_split=2,\n",
       "                       min_weight_fraction_leaf=0.0, n_estimators=10,\n",
       "                       n_jobs=None, oob_score=False, random_state=0, verbose=0,\n",
       "                       warm_start=False)"
      ]
     },
     "execution_count": 25,
     "metadata": {},
     "output_type": "execute_result"
    }
   ],
   "source": [
    "from sklearn.ensemble import RandomForestClassifier\n",
    "forest_classifier = RandomForestClassifier(n_estimators= 10,criterion= 'entropy',random_state= 0)\n",
    "forest_classifier.fit(x_train,y_train)"
   ]
  },
  {
   "cell_type": "code",
   "execution_count": 26,
   "metadata": {},
   "outputs": [
    {
     "name": "stdout",
     "output_type": "stream",
     "text": [
      "0.9412063879564643\n",
      "[[ 218  398]\n",
      " [ 180 9035]]\n"
     ]
    }
   ],
   "source": [
    "y_pred_forest = forest_classifier.predict(x_test)\n",
    "print(accuracy_score(y_test,y_pred_forest))\n",
    "print(confusion_matrix(y_test,y_pred_forest))"
   ]
  },
  {
   "cell_type": "code",
   "execution_count": 27,
   "metadata": {},
   "outputs": [],
   "source": [
    "test_dataset=pd.read_csv('test.csv')"
   ]
  },
  {
   "cell_type": "code",
   "execution_count": 28,
   "metadata": {},
   "outputs": [
    {
     "name": "stdout",
     "output_type": "stream",
     "text": [
      "<class 'pandas.core.frame.DataFrame'>\n",
      "RangeIndex: 912363 entries, 0 to 912362\n",
      "Data columns (total 10 columns):\n",
      " #   Column            Non-Null Count   Dtype\n",
      "---  ------            --------------   -----\n",
      " 0   id                912363 non-null  int64\n",
      " 1   RESOURCE          912363 non-null  int64\n",
      " 2   MGR_ID            912363 non-null  int64\n",
      " 3   ROLE_ROLLUP_1     912363 non-null  int64\n",
      " 4   ROLE_ROLLUP_2     912363 non-null  int64\n",
      " 5   ROLE_DEPTNAME     912363 non-null  int64\n",
      " 6   ROLE_TITLE        912363 non-null  int64\n",
      " 7   ROLE_FAMILY_DESC  912363 non-null  int64\n",
      " 8   ROLE_FAMILY       912363 non-null  int64\n",
      " 9   ROLE_CODE         912363 non-null  int64\n",
      "dtypes: int64(10)\n",
      "memory usage: 69.6 MB\n"
     ]
    }
   ],
   "source": [
    "test_dataset.info()"
   ]
  },
  {
   "cell_type": "code",
   "execution_count": 29,
   "metadata": {},
   "outputs": [
    {
     "data": {
      "text/plain": [
       "id                  0\n",
       "RESOURCE            0\n",
       "MGR_ID              0\n",
       "ROLE_ROLLUP_1       0\n",
       "ROLE_ROLLUP_2       0\n",
       "ROLE_DEPTNAME       0\n",
       "ROLE_TITLE          0\n",
       "ROLE_FAMILY_DESC    0\n",
       "ROLE_FAMILY         0\n",
       "ROLE_CODE           0\n",
       "dtype: int64"
      ]
     },
     "execution_count": 29,
     "metadata": {},
     "output_type": "execute_result"
    }
   ],
   "source": [
    "test_dataset.isnull().sum()"
   ]
  },
  {
   "cell_type": "code",
   "execution_count": 30,
   "metadata": {},
   "outputs": [
    {
     "data": {
      "text/html": [
       "<div>\n",
       "<style scoped>\n",
       "    .dataframe tbody tr th:only-of-type {\n",
       "        vertical-align: middle;\n",
       "    }\n",
       "\n",
       "    .dataframe tbody tr th {\n",
       "        vertical-align: top;\n",
       "    }\n",
       "\n",
       "    .dataframe thead th {\n",
       "        text-align: right;\n",
       "    }\n",
       "</style>\n",
       "<table border=\"1\" class=\"dataframe\">\n",
       "  <thead>\n",
       "    <tr style=\"text-align: right;\">\n",
       "      <th></th>\n",
       "      <th>id</th>\n",
       "      <th>RESOURCE</th>\n",
       "      <th>MGR_ID</th>\n",
       "      <th>ROLE_ROLLUP_1</th>\n",
       "      <th>ROLE_ROLLUP_2</th>\n",
       "      <th>ROLE_DEPTNAME</th>\n",
       "      <th>ROLE_TITLE</th>\n",
       "      <th>ROLE_FAMILY_DESC</th>\n",
       "      <th>ROLE_FAMILY</th>\n",
       "      <th>ROLE_CODE</th>\n",
       "    </tr>\n",
       "  </thead>\n",
       "  <tbody>\n",
       "    <tr>\n",
       "      <th>0</th>\n",
       "      <td>1</td>\n",
       "      <td>32642</td>\n",
       "      <td>7792</td>\n",
       "      <td>118573</td>\n",
       "      <td>118574</td>\n",
       "      <td>117945</td>\n",
       "      <td>136261</td>\n",
       "      <td>128463</td>\n",
       "      <td>292795</td>\n",
       "      <td>119082</td>\n",
       "    </tr>\n",
       "    <tr>\n",
       "      <th>1</th>\n",
       "      <td>2</td>\n",
       "      <td>4696</td>\n",
       "      <td>14638</td>\n",
       "      <td>117961</td>\n",
       "      <td>118343</td>\n",
       "      <td>118514</td>\n",
       "      <td>118321</td>\n",
       "      <td>289122</td>\n",
       "      <td>255851</td>\n",
       "      <td>118322</td>\n",
       "    </tr>\n",
       "    <tr>\n",
       "      <th>2</th>\n",
       "      <td>3</td>\n",
       "      <td>22662</td>\n",
       "      <td>1760</td>\n",
       "      <td>118887</td>\n",
       "      <td>118888</td>\n",
       "      <td>120171</td>\n",
       "      <td>118396</td>\n",
       "      <td>255118</td>\n",
       "      <td>118398</td>\n",
       "      <td>118399</td>\n",
       "    </tr>\n",
       "    <tr>\n",
       "      <th>3</th>\n",
       "      <td>4</td>\n",
       "      <td>75078</td>\n",
       "      <td>7576</td>\n",
       "      <td>117961</td>\n",
       "      <td>118052</td>\n",
       "      <td>120671</td>\n",
       "      <td>118321</td>\n",
       "      <td>117906</td>\n",
       "      <td>257051</td>\n",
       "      <td>118322</td>\n",
       "    </tr>\n",
       "    <tr>\n",
       "      <th>4</th>\n",
       "      <td>5</td>\n",
       "      <td>39879</td>\n",
       "      <td>55668</td>\n",
       "      <td>117902</td>\n",
       "      <td>118041</td>\n",
       "      <td>117945</td>\n",
       "      <td>135951</td>\n",
       "      <td>134458</td>\n",
       "      <td>19776</td>\n",
       "      <td>119082</td>\n",
       "    </tr>\n",
       "  </tbody>\n",
       "</table>\n",
       "</div>"
      ],
      "text/plain": [
       "   id  RESOURCE  MGR_ID  ROLE_ROLLUP_1  ROLE_ROLLUP_2  ROLE_DEPTNAME  \\\n",
       "0   1     32642    7792         118573         118574         117945   \n",
       "1   2      4696   14638         117961         118343         118514   \n",
       "2   3     22662    1760         118887         118888         120171   \n",
       "3   4     75078    7576         117961         118052         120671   \n",
       "4   5     39879   55668         117902         118041         117945   \n",
       "\n",
       "   ROLE_TITLE  ROLE_FAMILY_DESC  ROLE_FAMILY  ROLE_CODE  \n",
       "0      136261            128463       292795     119082  \n",
       "1      118321            289122       255851     118322  \n",
       "2      118396            255118       118398     118399  \n",
       "3      118321            117906       257051     118322  \n",
       "4      135951            134458        19776     119082  "
      ]
     },
     "execution_count": 30,
     "metadata": {},
     "output_type": "execute_result"
    }
   ],
   "source": [
    "test_dataset.head()"
   ]
  },
  {
   "cell_type": "code",
   "execution_count": 31,
   "metadata": {},
   "outputs": [
    {
     "data": {
      "text/plain": [
       "(912363, 10)"
      ]
     },
     "execution_count": 31,
     "metadata": {},
     "output_type": "execute_result"
    }
   ],
   "source": [
    "test_dataset.shape"
   ]
  },
  {
   "cell_type": "code",
   "execution_count": 32,
   "metadata": {},
   "outputs": [
    {
     "data": {
      "text/plain": [
       "Index(['id', 'RESOURCE', 'MGR_ID', 'ROLE_ROLLUP_1', 'ROLE_ROLLUP_2',\n",
       "       'ROLE_DEPTNAME', 'ROLE_TITLE', 'ROLE_FAMILY_DESC', 'ROLE_FAMILY',\n",
       "       'ROLE_CODE'],\n",
       "      dtype='object')"
      ]
     },
     "execution_count": 32,
     "metadata": {},
     "output_type": "execute_result"
    }
   ],
   "source": [
    "test_dataset.columns"
   ]
  },
  {
   "cell_type": "code",
   "execution_count": 33,
   "metadata": {},
   "outputs": [],
   "source": [
    "test_dataset.drop('id',axis = 1, inplace= True)"
   ]
  },
  {
   "cell_type": "code",
   "execution_count": 34,
   "metadata": {},
   "outputs": [
    {
     "data": {
      "text/html": [
       "<div>\n",
       "<style scoped>\n",
       "    .dataframe tbody tr th:only-of-type {\n",
       "        vertical-align: middle;\n",
       "    }\n",
       "\n",
       "    .dataframe tbody tr th {\n",
       "        vertical-align: top;\n",
       "    }\n",
       "\n",
       "    .dataframe thead th {\n",
       "        text-align: right;\n",
       "    }\n",
       "</style>\n",
       "<table border=\"1\" class=\"dataframe\">\n",
       "  <thead>\n",
       "    <tr style=\"text-align: right;\">\n",
       "      <th></th>\n",
       "      <th>RESOURCE</th>\n",
       "      <th>MGR_ID</th>\n",
       "      <th>ROLE_ROLLUP_1</th>\n",
       "      <th>ROLE_ROLLUP_2</th>\n",
       "      <th>ROLE_DEPTNAME</th>\n",
       "      <th>ROLE_TITLE</th>\n",
       "      <th>ROLE_FAMILY_DESC</th>\n",
       "      <th>ROLE_FAMILY</th>\n",
       "      <th>ROLE_CODE</th>\n",
       "    </tr>\n",
       "  </thead>\n",
       "  <tbody>\n",
       "    <tr>\n",
       "      <th>0</th>\n",
       "      <td>32642</td>\n",
       "      <td>7792</td>\n",
       "      <td>118573</td>\n",
       "      <td>118574</td>\n",
       "      <td>117945</td>\n",
       "      <td>136261</td>\n",
       "      <td>128463</td>\n",
       "      <td>292795</td>\n",
       "      <td>119082</td>\n",
       "    </tr>\n",
       "    <tr>\n",
       "      <th>1</th>\n",
       "      <td>4696</td>\n",
       "      <td>14638</td>\n",
       "      <td>117961</td>\n",
       "      <td>118343</td>\n",
       "      <td>118514</td>\n",
       "      <td>118321</td>\n",
       "      <td>289122</td>\n",
       "      <td>255851</td>\n",
       "      <td>118322</td>\n",
       "    </tr>\n",
       "    <tr>\n",
       "      <th>2</th>\n",
       "      <td>22662</td>\n",
       "      <td>1760</td>\n",
       "      <td>118887</td>\n",
       "      <td>118888</td>\n",
       "      <td>120171</td>\n",
       "      <td>118396</td>\n",
       "      <td>255118</td>\n",
       "      <td>118398</td>\n",
       "      <td>118399</td>\n",
       "    </tr>\n",
       "    <tr>\n",
       "      <th>3</th>\n",
       "      <td>75078</td>\n",
       "      <td>7576</td>\n",
       "      <td>117961</td>\n",
       "      <td>118052</td>\n",
       "      <td>120671</td>\n",
       "      <td>118321</td>\n",
       "      <td>117906</td>\n",
       "      <td>257051</td>\n",
       "      <td>118322</td>\n",
       "    </tr>\n",
       "    <tr>\n",
       "      <th>4</th>\n",
       "      <td>39879</td>\n",
       "      <td>55668</td>\n",
       "      <td>117902</td>\n",
       "      <td>118041</td>\n",
       "      <td>117945</td>\n",
       "      <td>135951</td>\n",
       "      <td>134458</td>\n",
       "      <td>19776</td>\n",
       "      <td>119082</td>\n",
       "    </tr>\n",
       "    <tr>\n",
       "      <th>...</th>\n",
       "      <td>...</td>\n",
       "      <td>...</td>\n",
       "      <td>...</td>\n",
       "      <td>...</td>\n",
       "      <td>...</td>\n",
       "      <td>...</td>\n",
       "      <td>...</td>\n",
       "      <td>...</td>\n",
       "      <td>...</td>\n",
       "    </tr>\n",
       "    <tr>\n",
       "      <th>912358</th>\n",
       "      <td>32642</td>\n",
       "      <td>7792</td>\n",
       "      <td>118573</td>\n",
       "      <td>118574</td>\n",
       "      <td>117945</td>\n",
       "      <td>188271</td>\n",
       "      <td>139356</td>\n",
       "      <td>292795</td>\n",
       "      <td>119082</td>\n",
       "    </tr>\n",
       "    <tr>\n",
       "      <th>912359</th>\n",
       "      <td>41594</td>\n",
       "      <td>25262</td>\n",
       "      <td>126974</td>\n",
       "      <td>126975</td>\n",
       "      <td>118320</td>\n",
       "      <td>118685</td>\n",
       "      <td>120493</td>\n",
       "      <td>119970</td>\n",
       "      <td>118687</td>\n",
       "    </tr>\n",
       "    <tr>\n",
       "      <th>912360</th>\n",
       "      <td>45784</td>\n",
       "      <td>141</td>\n",
       "      <td>117961</td>\n",
       "      <td>118225</td>\n",
       "      <td>122273</td>\n",
       "      <td>118321</td>\n",
       "      <td>117906</td>\n",
       "      <td>238636</td>\n",
       "      <td>118322</td>\n",
       "    </tr>\n",
       "    <tr>\n",
       "      <th>912361</th>\n",
       "      <td>15716</td>\n",
       "      <td>2456</td>\n",
       "      <td>118752</td>\n",
       "      <td>118753</td>\n",
       "      <td>118754</td>\n",
       "      <td>119081</td>\n",
       "      <td>135951</td>\n",
       "      <td>292795</td>\n",
       "      <td>119082</td>\n",
       "    </tr>\n",
       "    <tr>\n",
       "      <th>912362</th>\n",
       "      <td>43443</td>\n",
       "      <td>7022</td>\n",
       "      <td>119062</td>\n",
       "      <td>119091</td>\n",
       "      <td>118535</td>\n",
       "      <td>118784</td>\n",
       "      <td>147114</td>\n",
       "      <td>290919</td>\n",
       "      <td>118786</td>\n",
       "    </tr>\n",
       "  </tbody>\n",
       "</table>\n",
       "<p>912363 rows × 9 columns</p>\n",
       "</div>"
      ],
      "text/plain": [
       "        RESOURCE  MGR_ID  ROLE_ROLLUP_1  ROLE_ROLLUP_2  ROLE_DEPTNAME  \\\n",
       "0          32642    7792         118573         118574         117945   \n",
       "1           4696   14638         117961         118343         118514   \n",
       "2          22662    1760         118887         118888         120171   \n",
       "3          75078    7576         117961         118052         120671   \n",
       "4          39879   55668         117902         118041         117945   \n",
       "...          ...     ...            ...            ...            ...   \n",
       "912358     32642    7792         118573         118574         117945   \n",
       "912359     41594   25262         126974         126975         118320   \n",
       "912360     45784     141         117961         118225         122273   \n",
       "912361     15716    2456         118752         118753         118754   \n",
       "912362     43443    7022         119062         119091         118535   \n",
       "\n",
       "        ROLE_TITLE  ROLE_FAMILY_DESC  ROLE_FAMILY  ROLE_CODE  \n",
       "0           136261            128463       292795     119082  \n",
       "1           118321            289122       255851     118322  \n",
       "2           118396            255118       118398     118399  \n",
       "3           118321            117906       257051     118322  \n",
       "4           135951            134458        19776     119082  \n",
       "...            ...               ...          ...        ...  \n",
       "912358      188271            139356       292795     119082  \n",
       "912359      118685            120493       119970     118687  \n",
       "912360      118321            117906       238636     118322  \n",
       "912361      119081            135951       292795     119082  \n",
       "912362      118784            147114       290919     118786  \n",
       "\n",
       "[912363 rows x 9 columns]"
      ]
     },
     "execution_count": 34,
     "metadata": {},
     "output_type": "execute_result"
    }
   ],
   "source": [
    "test_dataset"
   ]
  },
  {
   "cell_type": "code",
   "execution_count": 35,
   "metadata": {},
   "outputs": [],
   "source": [
    "test_prediction= forest_classifier.predict(test_dataset)"
   ]
  },
  {
   "cell_type": "code",
   "execution_count": 36,
   "metadata": {},
   "outputs": [
    {
     "data": {
      "text/plain": [
       "array([1, 1, 1, ..., 1, 1, 1], dtype=int64)"
      ]
     },
     "execution_count": 36,
     "metadata": {},
     "output_type": "execute_result"
    }
   ],
   "source": [
    "test_prediction"
   ]
  },
  {
   "cell_type": "code",
   "execution_count": null,
   "metadata": {},
   "outputs": [],
   "source": []
  }
 ],
 "metadata": {
  "kernelspec": {
   "display_name": "Python 3",
   "language": "python",
   "name": "python3"
  },
  "language_info": {
   "codemirror_mode": {
    "name": "ipython",
    "version": 3
   },
   "file_extension": ".py",
   "mimetype": "text/x-python",
   "name": "python",
   "nbconvert_exporter": "python",
   "pygments_lexer": "ipython3",
   "version": "3.7.6"
  }
 },
 "nbformat": 4,
 "nbformat_minor": 4
}
